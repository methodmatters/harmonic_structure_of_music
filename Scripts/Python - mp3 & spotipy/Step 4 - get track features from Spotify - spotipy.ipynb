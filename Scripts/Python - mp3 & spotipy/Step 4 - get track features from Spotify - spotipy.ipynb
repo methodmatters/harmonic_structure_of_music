{
 "cells": [
  {
   "cell_type": "code",
   "execution_count": 34,
   "metadata": {},
   "outputs": [],
   "source": [
    "import numpy as np\n",
    "import pandas as pd\n",
    "import spotipy\n",
    "from spotipy.oauth2 import SpotifyClientCredentials \n",
    "import time\n",
    "import joblib\n",
    "import math\n",
    "%matplotlib inline"
   ]
  },
  {
   "cell_type": "markdown",
   "metadata": {},
   "source": [
    "# load the track data "
   ]
  },
  {
   "cell_type": "code",
   "execution_count": 2,
   "metadata": {},
   "outputs": [],
   "source": [
    "in_dir = 'D:\\\\Data\\\\spotify_album_tracks\\\\'"
   ]
  },
  {
   "cell_type": "code",
   "execution_count": 3,
   "metadata": {},
   "outputs": [
    {
     "data": {
      "text/plain": [
       "(6901, 9)"
      ]
     },
     "execution_count": 3,
     "metadata": {},
     "output_type": "execute_result"
    }
   ],
   "source": [
    "master_tracks = joblib.load(in_dir + 'omnibus_album_tracks.pkl')  \n",
    "master_tracks.shape"
   ]
  },
  {
   "cell_type": "code",
   "execution_count": 54,
   "metadata": {},
   "outputs": [
    {
     "data": {
      "text/plain": [
       "479"
      ]
     },
     "execution_count": 54,
     "metadata": {},
     "output_type": "execute_result"
    }
   ],
   "source": [
    "len(np.unique(master_tracks.album_uri))"
   ]
  },
  {
   "cell_type": "code",
   "execution_count": 4,
   "metadata": {},
   "outputs": [
    {
     "data": {
      "text/plain": [
       "album_uri            0\n",
       "num_tracks           0\n",
       "track_number         0\n",
       "explicit             0\n",
       "track_name           0\n",
       "track_type           0\n",
       "track_duration_ms    0\n",
       "track_disc_number    0\n",
       "track_uri            0\n",
       "dtype: int64"
      ]
     },
     "execution_count": 4,
     "metadata": {},
     "output_type": "execute_result"
    }
   ],
   "source": [
    "master_tracks.isnull().sum()"
   ]
  },
  {
   "cell_type": "code",
   "execution_count": 5,
   "metadata": {},
   "outputs": [
    {
     "data": {
      "text/html": [
       "<div>\n",
       "<style scoped>\n",
       "    .dataframe tbody tr th:only-of-type {\n",
       "        vertical-align: middle;\n",
       "    }\n",
       "\n",
       "    .dataframe tbody tr th {\n",
       "        vertical-align: top;\n",
       "    }\n",
       "\n",
       "    .dataframe thead th {\n",
       "        text-align: right;\n",
       "    }\n",
       "</style>\n",
       "<table border=\"1\" class=\"dataframe\">\n",
       "  <thead>\n",
       "    <tr style=\"text-align: right;\">\n",
       "      <th></th>\n",
       "      <th>album_uri</th>\n",
       "      <th>num_tracks</th>\n",
       "      <th>track_number</th>\n",
       "      <th>explicit</th>\n",
       "      <th>track_name</th>\n",
       "      <th>track_type</th>\n",
       "      <th>track_duration_ms</th>\n",
       "      <th>track_disc_number</th>\n",
       "      <th>track_uri</th>\n",
       "    </tr>\n",
       "  </thead>\n",
       "  <tbody>\n",
       "    <tr>\n",
       "      <td>0</td>\n",
       "      <td>spotify:album:3T4tUhGYeRNVUGevb0wThu</td>\n",
       "      <td>16</td>\n",
       "      <td>1</td>\n",
       "      <td>False</td>\n",
       "      <td>Eraser</td>\n",
       "      <td>track</td>\n",
       "      <td>227426</td>\n",
       "      <td>1</td>\n",
       "      <td>spotify:track:7oolFzHipTMg2nL7shhdz2</td>\n",
       "    </tr>\n",
       "    <tr>\n",
       "      <td>1</td>\n",
       "      <td>spotify:album:3T4tUhGYeRNVUGevb0wThu</td>\n",
       "      <td>16</td>\n",
       "      <td>2</td>\n",
       "      <td>False</td>\n",
       "      <td>Castle on the Hill</td>\n",
       "      <td>track</td>\n",
       "      <td>261153</td>\n",
       "      <td>1</td>\n",
       "      <td>spotify:track:6PCUP3dWmTjcTtXY02oFdT</td>\n",
       "    </tr>\n",
       "    <tr>\n",
       "      <td>2</td>\n",
       "      <td>spotify:album:3T4tUhGYeRNVUGevb0wThu</td>\n",
       "      <td>16</td>\n",
       "      <td>3</td>\n",
       "      <td>False</td>\n",
       "      <td>Dive</td>\n",
       "      <td>track</td>\n",
       "      <td>238440</td>\n",
       "      <td>1</td>\n",
       "      <td>spotify:track:51ChrwmUPDJvedPQnIU8Ls</td>\n",
       "    </tr>\n",
       "    <tr>\n",
       "      <td>3</td>\n",
       "      <td>spotify:album:3T4tUhGYeRNVUGevb0wThu</td>\n",
       "      <td>16</td>\n",
       "      <td>4</td>\n",
       "      <td>False</td>\n",
       "      <td>Shape of You</td>\n",
       "      <td>track</td>\n",
       "      <td>233712</td>\n",
       "      <td>1</td>\n",
       "      <td>spotify:track:7qiZfU4dY1lWllzX7mPBI3</td>\n",
       "    </tr>\n",
       "    <tr>\n",
       "      <td>4</td>\n",
       "      <td>spotify:album:3T4tUhGYeRNVUGevb0wThu</td>\n",
       "      <td>16</td>\n",
       "      <td>5</td>\n",
       "      <td>False</td>\n",
       "      <td>Perfect</td>\n",
       "      <td>track</td>\n",
       "      <td>263400</td>\n",
       "      <td>1</td>\n",
       "      <td>spotify:track:0tgVpDi06FyKpA1z0VMD4v</td>\n",
       "    </tr>\n",
       "  </tbody>\n",
       "</table>\n",
       "</div>"
      ],
      "text/plain": [
       "                              album_uri  num_tracks  track_number  explicit  \\\n",
       "0  spotify:album:3T4tUhGYeRNVUGevb0wThu          16             1     False   \n",
       "1  spotify:album:3T4tUhGYeRNVUGevb0wThu          16             2     False   \n",
       "2  spotify:album:3T4tUhGYeRNVUGevb0wThu          16             3     False   \n",
       "3  spotify:album:3T4tUhGYeRNVUGevb0wThu          16             4     False   \n",
       "4  spotify:album:3T4tUhGYeRNVUGevb0wThu          16             5     False   \n",
       "\n",
       "           track_name track_type  track_duration_ms  track_disc_number  \\\n",
       "0              Eraser      track             227426                  1   \n",
       "1  Castle on the Hill      track             261153                  1   \n",
       "2                Dive      track             238440                  1   \n",
       "3        Shape of You      track             233712                  1   \n",
       "4             Perfect      track             263400                  1   \n",
       "\n",
       "                              track_uri  \n",
       "0  spotify:track:7oolFzHipTMg2nL7shhdz2  \n",
       "1  spotify:track:6PCUP3dWmTjcTtXY02oFdT  \n",
       "2  spotify:track:51ChrwmUPDJvedPQnIU8Ls  \n",
       "3  spotify:track:7qiZfU4dY1lWllzX7mPBI3  \n",
       "4  spotify:track:0tgVpDi06FyKpA1z0VMD4v  "
      ]
     },
     "execution_count": 5,
     "metadata": {},
     "output_type": "execute_result"
    }
   ],
   "source": [
    "master_tracks.head()"
   ]
  },
  {
   "cell_type": "markdown",
   "metadata": {},
   "source": [
    "### https://medium.com/@RareLoot/extracting-spotify-data-on-your-favourite-artist-via-python-d58bc92a4330\n",
    "### https://stackoverflow.com/questions/36237522/get-spotipy-album-id-from-album\n",
    "### https://github.com/plamere/spotipy/issues/268\n",
    "### https://spotipy.readthedocs.io/en/2.12.0/#api-reference\n",
    "### https://developer.spotify.com/documentation/web-api/reference/search/search/\n",
    "### https://developer.spotify.com/documentation/web-api/reference/search/search/#writing-a-query---guidelines"
   ]
  },
  {
   "cell_type": "code",
   "execution_count": 6,
   "metadata": {},
   "outputs": [],
   "source": [
    "client_id = 'YOUR SPOTIFY CLIENT ID HERE'\n",
    "client_secret = 'YOUR SPOTIFY SECRET HERE'"
   ]
  },
  {
   "cell_type": "code",
   "execution_count": 7,
   "metadata": {},
   "outputs": [],
   "source": [
    "client_credentials_manager = SpotifyClientCredentials(client_id=client_id, client_secret=client_secret)\n",
    "sp = spotipy.Spotify(client_credentials_manager=client_credentials_manager) #spotify object to access API"
   ]
  },
  {
   "cell_type": "markdown",
   "metadata": {},
   "source": [
    "# get audio features with track ids"
   ]
  },
  {
   "cell_type": "code",
   "execution_count": 8,
   "metadata": {},
   "outputs": [],
   "source": [
    "test_features = sp.audio_features(master_tracks.track_uri[0:20])"
   ]
  },
  {
   "cell_type": "code",
   "execution_count": 11,
   "metadata": {},
   "outputs": [
    {
     "data": {
      "text/plain": [
       "[{'danceability': 0.64,\n",
       "  'energy': 0.812,\n",
       "  'key': 8,\n",
       "  'loudness': -5.647,\n",
       "  'mode': 0,\n",
       "  'speechiness': 0.0834,\n",
       "  'acousticness': 0.086,\n",
       "  'instrumentalness': 0,\n",
       "  'liveness': 0.0509,\n",
       "  'valence': 0.914,\n",
       "  'tempo': 86.013,\n",
       "  'type': 'audio_features',\n",
       "  'id': '7oolFzHipTMg2nL7shhdz2',\n",
       "  'uri': 'spotify:track:7oolFzHipTMg2nL7shhdz2',\n",
       "  'track_href': 'https://api.spotify.com/v1/tracks/7oolFzHipTMg2nL7shhdz2',\n",
       "  'analysis_url': 'https://api.spotify.com/v1/audio-analysis/7oolFzHipTMg2nL7shhdz2',\n",
       "  'duration_ms': 227427,\n",
       "  'time_signature': 4},\n",
       " {'danceability': 0.461,\n",
       "  'energy': 0.834,\n",
       "  'key': 2,\n",
       "  'loudness': -4.868,\n",
       "  'mode': 1,\n",
       "  'speechiness': 0.0989,\n",
       "  'acousticness': 0.0232,\n",
       "  'instrumentalness': 1.14e-05,\n",
       "  'liveness': 0.14,\n",
       "  'valence': 0.471,\n",
       "  'tempo': 135.007,\n",
       "  'type': 'audio_features',\n",
       "  'id': '6PCUP3dWmTjcTtXY02oFdT',\n",
       "  'uri': 'spotify:track:6PCUP3dWmTjcTtXY02oFdT',\n",
       "  'track_href': 'https://api.spotify.com/v1/tracks/6PCUP3dWmTjcTtXY02oFdT',\n",
       "  'analysis_url': 'https://api.spotify.com/v1/audio-analysis/6PCUP3dWmTjcTtXY02oFdT',\n",
       "  'duration_ms': 261154,\n",
       "  'time_signature': 4},\n",
       " {'danceability': 0.761,\n",
       "  'energy': 0.386,\n",
       "  'key': 4,\n",
       "  'loudness': -6.158,\n",
       "  'mode': 1,\n",
       "  'speechiness': 0.0399,\n",
       "  'acousticness': 0.355,\n",
       "  'instrumentalness': 0,\n",
       "  'liveness': 0.0953,\n",
       "  'valence': 0.526,\n",
       "  'tempo': 134.943,\n",
       "  'type': 'audio_features',\n",
       "  'id': '51ChrwmUPDJvedPQnIU8Ls',\n",
       "  'uri': 'spotify:track:51ChrwmUPDJvedPQnIU8Ls',\n",
       "  'track_href': 'https://api.spotify.com/v1/tracks/51ChrwmUPDJvedPQnIU8Ls',\n",
       "  'analysis_url': 'https://api.spotify.com/v1/audio-analysis/51ChrwmUPDJvedPQnIU8Ls',\n",
       "  'duration_ms': 238440,\n",
       "  'time_signature': 3},\n",
       " {'danceability': 0.825,\n",
       "  'energy': 0.652,\n",
       "  'key': 1,\n",
       "  'loudness': -3.183,\n",
       "  'mode': 0,\n",
       "  'speechiness': 0.0802,\n",
       "  'acousticness': 0.581,\n",
       "  'instrumentalness': 0,\n",
       "  'liveness': 0.0931,\n",
       "  'valence': 0.931,\n",
       "  'tempo': 95.977,\n",
       "  'type': 'audio_features',\n",
       "  'id': '7qiZfU4dY1lWllzX7mPBI3',\n",
       "  'uri': 'spotify:track:7qiZfU4dY1lWllzX7mPBI3',\n",
       "  'track_href': 'https://api.spotify.com/v1/tracks/7qiZfU4dY1lWllzX7mPBI3',\n",
       "  'analysis_url': 'https://api.spotify.com/v1/audio-analysis/7qiZfU4dY1lWllzX7mPBI3',\n",
       "  'duration_ms': 233713,\n",
       "  'time_signature': 4},\n",
       " {'danceability': 0.599,\n",
       "  'energy': 0.448,\n",
       "  'key': 8,\n",
       "  'loudness': -6.312,\n",
       "  'mode': 1,\n",
       "  'speechiness': 0.0232,\n",
       "  'acousticness': 0.163,\n",
       "  'instrumentalness': 0,\n",
       "  'liveness': 0.106,\n",
       "  'valence': 0.168,\n",
       "  'tempo': 95.05,\n",
       "  'type': 'audio_features',\n",
       "  'id': '0tgVpDi06FyKpA1z0VMD4v',\n",
       "  'uri': 'spotify:track:0tgVpDi06FyKpA1z0VMD4v',\n",
       "  'track_href': 'https://api.spotify.com/v1/tracks/0tgVpDi06FyKpA1z0VMD4v',\n",
       "  'analysis_url': 'https://api.spotify.com/v1/audio-analysis/0tgVpDi06FyKpA1z0VMD4v',\n",
       "  'duration_ms': 263400,\n",
       "  'time_signature': 3},\n",
       " {'danceability': 0.624,\n",
       "  'energy': 0.876,\n",
       "  'key': 9,\n",
       "  'loudness': -3.374,\n",
       "  'mode': 1,\n",
       "  'speechiness': 0.1,\n",
       "  'acousticness': 0.0735,\n",
       "  'instrumentalness': 0,\n",
       "  'liveness': 0.327,\n",
       "  'valence': 0.781,\n",
       "  'tempo': 99.943,\n",
       "  'type': 'audio_features',\n",
       "  'id': '0afhq8XCExXpqazXczTSve',\n",
       "  'uri': 'spotify:track:0afhq8XCExXpqazXczTSve',\n",
       "  'track_href': 'https://api.spotify.com/v1/tracks/0afhq8XCExXpqazXczTSve',\n",
       "  'analysis_url': 'https://api.spotify.com/v1/audio-analysis/0afhq8XCExXpqazXczTSve',\n",
       "  'duration_ms': 170827,\n",
       "  'time_signature': 4},\n",
       " {'danceability': 0.522,\n",
       "  'energy': 0.385,\n",
       "  'key': 0,\n",
       "  'loudness': -7.355,\n",
       "  'mode': 1,\n",
       "  'speechiness': 0.0288,\n",
       "  'acousticness': 0.536,\n",
       "  'instrumentalness': 0,\n",
       "  'liveness': 0.135,\n",
       "  'valence': 0.236,\n",
       "  'tempo': 89.792,\n",
       "  'type': 'audio_features',\n",
       "  'id': '2RttW7RAu5nOAfq6YFvApB',\n",
       "  'uri': 'spotify:track:2RttW7RAu5nOAfq6YFvApB',\n",
       "  'track_href': 'https://api.spotify.com/v1/tracks/2RttW7RAu5nOAfq6YFvApB',\n",
       "  'analysis_url': 'https://api.spotify.com/v1/audio-analysis/2RttW7RAu5nOAfq6YFvApB',\n",
       "  'duration_ms': 207520,\n",
       "  'time_signature': 4},\n",
       " {'danceability': 0.78,\n",
       "  'energy': 0.745,\n",
       "  'key': 7,\n",
       "  'loudness': -3.97,\n",
       "  'mode': 1,\n",
       "  'speechiness': 0.145,\n",
       "  'acousticness': 0.0559,\n",
       "  'instrumentalness': 0,\n",
       "  'liveness': 0.0595,\n",
       "  'valence': 0.862,\n",
       "  'tempo': 94.026,\n",
       "  'type': 'audio_features',\n",
       "  'id': '5HDPtsnyb3maFmPL8LLUTG',\n",
       "  'uri': 'spotify:track:5HDPtsnyb3maFmPL8LLUTG',\n",
       "  'track_href': 'https://api.spotify.com/v1/tracks/5HDPtsnyb3maFmPL8LLUTG',\n",
       "  'analysis_url': 'https://api.spotify.com/v1/audio-analysis/5HDPtsnyb3maFmPL8LLUTG',\n",
       "  'duration_ms': 189280,\n",
       "  'time_signature': 4},\n",
       " {'danceability': 0.604,\n",
       "  'energy': 0.366,\n",
       "  'key': 7,\n",
       "  'loudness': -7.881,\n",
       "  'mode': 1,\n",
       "  'speechiness': 0.0267,\n",
       "  'acousticness': 0.719,\n",
       "  'instrumentalness': 0,\n",
       "  'liveness': 0.162,\n",
       "  'valence': 0.181,\n",
       "  'tempo': 105.177,\n",
       "  'type': 'audio_features',\n",
       "  'id': '2dfHh7ECGxfNqZTQno09Vk',\n",
       "  'uri': 'spotify:track:2dfHh7ECGxfNqZTQno09Vk',\n",
       "  'track_href': 'https://api.spotify.com/v1/tracks/2dfHh7ECGxfNqZTQno09Vk',\n",
       "  'analysis_url': 'https://api.spotify.com/v1/audio-analysis/2dfHh7ECGxfNqZTQno09Vk',\n",
       "  'duration_ms': 248413,\n",
       "  'time_signature': 3},\n",
       " {'danceability': 0.838,\n",
       "  'energy': 0.492,\n",
       "  'key': 1,\n",
       "  'loudness': -5.69,\n",
       "  'mode': 0,\n",
       "  'speechiness': 0.038,\n",
       "  'acousticness': 0.251,\n",
       "  'instrumentalness': 0,\n",
       "  'liveness': 0.262,\n",
       "  'valence': 0.895,\n",
       "  'tempo': 115.092,\n",
       "  'type': 'audio_features',\n",
       "  'id': '2pJZ1v8HezrAoZ0Fhzby92',\n",
       "  'uri': 'spotify:track:2pJZ1v8HezrAoZ0Fhzby92',\n",
       "  'track_href': 'https://api.spotify.com/v1/tracks/2pJZ1v8HezrAoZ0Fhzby92',\n",
       "  'analysis_url': 'https://api.spotify.com/v1/audio-analysis/2pJZ1v8HezrAoZ0Fhzby92',\n",
       "  'duration_ms': 237333,\n",
       "  'time_signature': 4},\n",
       " {'danceability': 0.617,\n",
       "  'energy': 0.439,\n",
       "  'key': 9,\n",
       "  'loudness': -5.63,\n",
       "  'mode': 1,\n",
       "  'speechiness': 0.0269,\n",
       "  'acousticness': 0.424,\n",
       "  'instrumentalness': 0,\n",
       "  'liveness': 0.127,\n",
       "  'valence': 0.242,\n",
       "  'tempo': 139.979,\n",
       "  'type': 'audio_features',\n",
       "  'id': '6PJ8FF6UR8FZXfEvpHkIVN',\n",
       "  'uri': 'spotify:track:6PJ8FF6UR8FZXfEvpHkIVN',\n",
       "  'track_href': 'https://api.spotify.com/v1/tracks/6PJ8FF6UR8FZXfEvpHkIVN',\n",
       "  'analysis_url': 'https://api.spotify.com/v1/audio-analysis/6PJ8FF6UR8FZXfEvpHkIVN',\n",
       "  'duration_ms': 280533,\n",
       "  'time_signature': 4},\n",
       " {'danceability': 0.589,\n",
       "  'energy': 0.242,\n",
       "  'key': 6,\n",
       "  'loudness': -10.517,\n",
       "  'mode': 1,\n",
       "  'speechiness': 0.0442,\n",
       "  'acousticness': 0.914,\n",
       "  'instrumentalness': 0,\n",
       "  'liveness': 0.0887,\n",
       "  'valence': 0.257,\n",
       "  'tempo': 89.749,\n",
       "  'type': 'audio_features',\n",
       "  'id': '4VuS959DSpr82t3qBqCrWG',\n",
       "  'uri': 'spotify:track:4VuS959DSpr82t3qBqCrWG',\n",
       "  'track_href': 'https://api.spotify.com/v1/tracks/4VuS959DSpr82t3qBqCrWG',\n",
       "  'analysis_url': 'https://api.spotify.com/v1/audio-analysis/4VuS959DSpr82t3qBqCrWG',\n",
       "  'duration_ms': 221107,\n",
       "  'time_signature': 4},\n",
       " {'danceability': 0.747,\n",
       "  'energy': 0.76,\n",
       "  'key': 1,\n",
       "  'loudness': -4.294,\n",
       "  'mode': 1,\n",
       "  'speechiness': 0.187,\n",
       "  'acousticness': 0.448,\n",
       "  'instrumentalness': 0,\n",
       "  'liveness': 0.153,\n",
       "  'valence': 0.682,\n",
       "  'tempo': 99.975,\n",
       "  'type': 'audio_features',\n",
       "  'id': '3Lfiu5sZ4M4B6JaKMBc0FU',\n",
       "  'uri': 'spotify:track:3Lfiu5sZ4M4B6JaKMBc0FU',\n",
       "  'track_href': 'https://api.spotify.com/v1/tracks/3Lfiu5sZ4M4B6JaKMBc0FU',\n",
       "  'analysis_url': 'https://api.spotify.com/v1/audio-analysis/3Lfiu5sZ4M4B6JaKMBc0FU',\n",
       "  'duration_ms': 191147,\n",
       "  'time_signature': 4},\n",
       " {'danceability': 0.738,\n",
       "  'energy': 0.677,\n",
       "  'key': 7,\n",
       "  'loudness': -5.121,\n",
       "  'mode': 1,\n",
       "  'speechiness': 0.0824,\n",
       "  'acousticness': 0.52,\n",
       "  'instrumentalness': 0,\n",
       "  'liveness': 0.133,\n",
       "  'valence': 0.882,\n",
       "  'tempo': 127.067,\n",
       "  'type': 'audio_features',\n",
       "  'id': '6SznMYPQJHzr3IwsAHLId2',\n",
       "  'uri': 'spotify:track:6SznMYPQJHzr3IwsAHLId2',\n",
       "  'track_href': 'https://api.spotify.com/v1/tracks/6SznMYPQJHzr3IwsAHLId2',\n",
       "  'analysis_url': 'https://api.spotify.com/v1/audio-analysis/6SznMYPQJHzr3IwsAHLId2',\n",
       "  'duration_ms': 176747,\n",
       "  'time_signature': 4},\n",
       " {'danceability': 0.68,\n",
       "  'energy': 0.852,\n",
       "  'key': 7,\n",
       "  'loudness': -4.35,\n",
       "  'mode': 1,\n",
       "  'speechiness': 0.0349,\n",
       "  'acousticness': 0.117,\n",
       "  'instrumentalness': 0,\n",
       "  'liveness': 0.0866,\n",
       "  'valence': 0.858,\n",
       "  'tempo': 101.993,\n",
       "  'type': 'audio_features',\n",
       "  'id': '35QZaWQRkmnAVqBF1TLCxQ',\n",
       "  'uri': 'spotify:track:35QZaWQRkmnAVqBF1TLCxQ',\n",
       "  'track_href': 'https://api.spotify.com/v1/tracks/35QZaWQRkmnAVqBF1TLCxQ',\n",
       "  'analysis_url': 'https://api.spotify.com/v1/audio-analysis/35QZaWQRkmnAVqBF1TLCxQ',\n",
       "  'duration_ms': 179787,\n",
       "  'time_signature': 4},\n",
       " {'danceability': 0.552,\n",
       "  'energy': 0.29,\n",
       "  'key': 10,\n",
       "  'loudness': -5.617,\n",
       "  'mode': 1,\n",
       "  'speechiness': 0.0448,\n",
       "  'acousticness': 0.85,\n",
       "  'instrumentalness': 0,\n",
       "  'liveness': 0.227,\n",
       "  'valence': 0.481,\n",
       "  'tempo': 78.842,\n",
       "  'type': 'audio_features',\n",
       "  'id': '6TIU9Ehmi6dMzZK73Ym4yj',\n",
       "  'uri': 'spotify:track:6TIU9Ehmi6dMzZK73Ym4yj',\n",
       "  'track_href': 'https://api.spotify.com/v1/tracks/6TIU9Ehmi6dMzZK73Ym4yj',\n",
       "  'analysis_url': 'https://api.spotify.com/v1/audio-analysis/6TIU9Ehmi6dMzZK73Ym4yj',\n",
       "  'duration_ms': 247107,\n",
       "  'time_signature': 4},\n",
       " {'danceability': 0.67,\n",
       "  'energy': 0.587,\n",
       "  'key': 2,\n",
       "  'loudness': -9.261,\n",
       "  'mode': 1,\n",
       "  'speechiness': 0.07,\n",
       "  'acousticness': 0.22,\n",
       "  'instrumentalness': 0.0491,\n",
       "  'liveness': 0.128,\n",
       "  'valence': 0.445,\n",
       "  'tempo': 97.817,\n",
       "  'type': 'audio_features',\n",
       "  'id': '0Fo5nnlCs8iY1oRiAIpcIg',\n",
       "  'uri': 'spotify:track:0Fo5nnlCs8iY1oRiAIpcIg',\n",
       "  'track_href': 'https://api.spotify.com/v1/tracks/0Fo5nnlCs8iY1oRiAIpcIg',\n",
       "  'analysis_url': 'https://api.spotify.com/v1/audio-analysis/0Fo5nnlCs8iY1oRiAIpcIg',\n",
       "  'duration_ms': 186533,\n",
       "  'time_signature': 4},\n",
       " {'danceability': 0.747,\n",
       "  'energy': 0.653,\n",
       "  'key': 8,\n",
       "  'loudness': -8.578,\n",
       "  'mode': 0,\n",
       "  'speechiness': 0.1,\n",
       "  'acousticness': 0.427,\n",
       "  'instrumentalness': 0.00145,\n",
       "  'liveness': 0.144,\n",
       "  'valence': 0.728,\n",
       "  'tempo': 139.764,\n",
       "  'type': 'audio_features',\n",
       "  'id': '1chzJr87WvWQMRlysp8sD1',\n",
       "  'uri': 'spotify:track:1chzJr87WvWQMRlysp8sD1',\n",
       "  'track_href': 'https://api.spotify.com/v1/tracks/1chzJr87WvWQMRlysp8sD1',\n",
       "  'analysis_url': 'https://api.spotify.com/v1/audio-analysis/1chzJr87WvWQMRlysp8sD1',\n",
       "  'duration_ms': 323400,\n",
       "  'time_signature': 4},\n",
       " {'danceability': 0.655,\n",
       "  'energy': 0.849,\n",
       "  'key': 7,\n",
       "  'loudness': -7.349,\n",
       "  'mode': 1,\n",
       "  'speechiness': 0.052,\n",
       "  'acousticness': 0.0562,\n",
       "  'instrumentalness': 0.108,\n",
       "  'liveness': 0.179,\n",
       "  'valence': 0.832,\n",
       "  'tempo': 122.025,\n",
       "  'type': 'audio_features',\n",
       "  'id': '2Vho6wO3pc56myjZP5miHm',\n",
       "  'uri': 'spotify:track:2Vho6wO3pc56myjZP5miHm',\n",
       "  'track_href': 'https://api.spotify.com/v1/tracks/2Vho6wO3pc56myjZP5miHm',\n",
       "  'analysis_url': 'https://api.spotify.com/v1/audio-analysis/2Vho6wO3pc56myjZP5miHm',\n",
       "  'duration_ms': 198960,\n",
       "  'time_signature': 4},\n",
       " {'danceability': 0.74,\n",
       "  'energy': 0.639,\n",
       "  'key': 1,\n",
       "  'loudness': -9.678,\n",
       "  'mode': 1,\n",
       "  'speechiness': 0.0455,\n",
       "  'acousticness': 0.0985,\n",
       "  'instrumentalness': 0.199,\n",
       "  'liveness': 0.649,\n",
       "  'valence': 0.375,\n",
       "  'tempo': 128.018,\n",
       "  'type': 'audio_features',\n",
       "  'id': '6XphvRPX1ADYUhhL3PLfs4',\n",
       "  'uri': 'spotify:track:6XphvRPX1ADYUhhL3PLfs4',\n",
       "  'track_href': 'https://api.spotify.com/v1/tracks/6XphvRPX1ADYUhhL3PLfs4',\n",
       "  'analysis_url': 'https://api.spotify.com/v1/audio-analysis/6XphvRPX1ADYUhhL3PLfs4',\n",
       "  'duration_ms': 395880,\n",
       "  'time_signature': 4}]"
      ]
     },
     "execution_count": 11,
     "metadata": {},
     "output_type": "execute_result"
    }
   ],
   "source": [
    "test_features"
   ]
  },
  {
   "cell_type": "code",
   "execution_count": 15,
   "metadata": {},
   "outputs": [
    {
     "data": {
      "text/plain": [
       "6901"
      ]
     },
     "execution_count": 15,
     "metadata": {},
     "output_type": "execute_result"
    }
   ],
   "source": [
    "len(master_tracks.track_uri)"
   ]
  },
  {
   "cell_type": "code",
   "execution_count": 17,
   "metadata": {},
   "outputs": [
    {
     "data": {
      "text/plain": [
       "70"
      ]
     },
     "execution_count": 17,
     "metadata": {},
     "output_type": "execute_result"
    }
   ],
   "source": [
    "math.ceil(len(master_tracks.track_uri)/100)"
   ]
  },
  {
   "cell_type": "code",
   "execution_count": null,
   "metadata": {},
   "outputs": [],
   "source": []
  },
  {
   "cell_type": "code",
   "execution_count": 18,
   "metadata": {},
   "outputs": [
    {
     "name": "stdout",
     "output_type": "stream",
     "text": [
      "0\n",
      "1\n",
      "2\n",
      "3\n",
      "4\n",
      "5\n",
      "6\n",
      "7\n",
      "8\n",
      "9\n",
      "10\n",
      "11\n",
      "12\n",
      "13\n",
      "14\n",
      "15\n",
      "16\n",
      "17\n",
      "18\n",
      "19\n",
      "20\n",
      "21\n",
      "22\n",
      "23\n",
      "24\n",
      "25\n",
      "26\n",
      "27\n",
      "28\n",
      "29\n",
      "30\n",
      "31\n",
      "32\n",
      "33\n",
      "34\n",
      "35\n",
      "36\n",
      "37\n",
      "38\n",
      "39\n",
      "40\n",
      "41\n",
      "42\n",
      "43\n",
      "44\n",
      "45\n",
      "46\n",
      "47\n",
      "48\n",
      "49\n",
      "50\n",
      "51\n",
      "52\n",
      "53\n",
      "54\n",
      "55\n",
      "56\n",
      "57\n",
      "58\n",
      "59\n",
      "60\n",
      "61\n",
      "62\n",
      "63\n",
      "64\n",
      "65\n",
      "66\n",
      "67\n",
      "68\n",
      "69\n"
     ]
    }
   ],
   "source": [
    "feature_list = []\n",
    "start_index = 0\n",
    "loop_length = math.ceil(len(master_tracks.track_uri)/100)\n",
    "for i in np.arange(0, loop_length):\n",
    "    print(i)\n",
    "    start = start_index\n",
    "    stop = start + 100\n",
    "    if stop < len(master_tracks.track_uri):\n",
    "        track_ids = master_tracks.track_uri[start:stop]\n",
    "        audio_features = sp.audio_features(track_ids)\n",
    "        audio_features_df = pd.DataFrame(audio_features)\n",
    "        feature_list.append(audio_features_df)\n",
    "    else:\n",
    "        track_ids = master_tracks.track_uri[start:len(master_tracks.track_uri)]\n",
    "        audio_features = sp.audio_features(track_ids)\n",
    "        audio_features_df = pd.DataFrame(audio_features)\n",
    "        feature_list.append(audio_features_df)\n",
    "    start_index = start_index + 100\n",
    "    time.sleep(np.random.uniform(2, 5))\n",
    "    "
   ]
  },
  {
   "cell_type": "code",
   "execution_count": 20,
   "metadata": {},
   "outputs": [
    {
     "data": {
      "text/plain": [
       "70"
      ]
     },
     "execution_count": 20,
     "metadata": {},
     "output_type": "execute_result"
    }
   ],
   "source": [
    "len(feature_list)"
   ]
  },
  {
   "cell_type": "code",
   "execution_count": 24,
   "metadata": {},
   "outputs": [
    {
     "data": {
      "text/plain": [
       "(6901, 18)"
      ]
     },
     "execution_count": 24,
     "metadata": {},
     "output_type": "execute_result"
    }
   ],
   "source": [
    "track_features = pd.concat(feature_list)\n",
    "track_features.shape"
   ]
  },
  {
   "cell_type": "code",
   "execution_count": 29,
   "metadata": {},
   "outputs": [
    {
     "name": "stdout",
     "output_type": "stream",
     "text": [
      "6901\n",
      "6901\n"
     ]
    }
   ],
   "source": [
    "# we've got them all!\n",
    "print(track_features.uri.isin(master_tracks.track_uri).sum())\n",
    "print(master_tracks.track_uri.isin(track_features.uri).sum())"
   ]
  },
  {
   "cell_type": "code",
   "execution_count": null,
   "metadata": {},
   "outputs": [],
   "source": [
    "# # save it out\n",
    "# out_dir = 'D:\\\\Data\\\\spotify_album_track_features\\\\'\n",
    "# joblib.dump(track_features, out_dir + 'track_features.pkl')  "
   ]
  },
  {
   "cell_type": "markdown",
   "metadata": {},
   "source": [
    "# let's visualize some stuff\n",
    "\n",
    "## https://developer.spotify.com/documentation/web-api/reference/tracks/get-several-audio-features/"
   ]
  },
  {
   "cell_type": "code",
   "execution_count": 31,
   "metadata": {},
   "outputs": [
    {
     "data": {
      "text/plain": [
       "Index(['danceability', 'energy', 'key', 'loudness', 'mode', 'speechiness',\n",
       "       'acousticness', 'instrumentalness', 'liveness', 'valence', 'tempo',\n",
       "       'type', 'id', 'uri', 'track_href', 'analysis_url', 'duration_ms',\n",
       "       'time_signature'],\n",
       "      dtype='object')"
      ]
     },
     "execution_count": 31,
     "metadata": {},
     "output_type": "execute_result"
    }
   ],
   "source": [
    "track_features.columns"
   ]
  },
  {
   "cell_type": "code",
   "execution_count": 35,
   "metadata": {},
   "outputs": [
    {
     "data": {
      "text/plain": [
       "<matplotlib.axes._subplots.AxesSubplot at 0x1e2ecb07dc8>"
      ]
     },
     "execution_count": 35,
     "metadata": {},
     "output_type": "execute_result"
    },
    {
     "data": {
      "image/png": "[encoded data removed]",
      "text/plain": [
       "<Figure size 432x288 with 1 Axes>"
      ]
     },
     "metadata": {
      "needs_background": "light"
     },
     "output_type": "display_data"
    }
   ],
   "source": [
    "import seaborn as sns\n",
    "sns.distplot(track_features.danceability)"
   ]
  },
  {
   "cell_type": "code",
   "execution_count": 36,
   "metadata": {},
   "outputs": [
    {
     "data": {
      "text/plain": [
       "<matplotlib.axes._subplots.AxesSubplot at 0x1e2ecbf2cc8>"
      ]
     },
     "execution_count": 36,
     "metadata": {},
     "output_type": "execute_result"
    },
    {
     "data": {
      "image/png": "[encoded data removed]",
      "text/plain": [
       "<Figure size 432x288 with 1 Axes>"
      ]
     },
     "metadata": {
      "needs_background": "light"
     },
     "output_type": "display_data"
    }
   ],
   "source": [
    "sns.distplot(track_features.energy)"
   ]
  },
  {
   "cell_type": "code",
   "execution_count": 37,
   "metadata": {},
   "outputs": [
    {
     "data": {
      "text/plain": [
       "<matplotlib.axes._subplots.AxesSubplot at 0x1e2eccbcec8>"
      ]
     },
     "execution_count": 37,
     "metadata": {},
     "output_type": "execute_result"
    },
    {
     "data": {
      "image/png": "[encoded data removed]",
      "text/plain": [
       "<Figure size 432x288 with 1 Axes>"
      ]
     },
     "metadata": {
      "needs_background": "light"
     },
     "output_type": "display_data"
    }
   ],
   "source": [
    "sns.distplot(track_features.key)"
   ]
  },
  {
   "cell_type": "code",
   "execution_count": 38,
   "metadata": {},
   "outputs": [
    {
     "data": {
      "text/plain": [
       "7     928\n",
       "0     892\n",
       "9     800\n",
       "2     771\n",
       "5     637\n",
       "4     563\n",
       "11    520\n",
       "1     515\n",
       "10    401\n",
       "8     397\n",
       "6     285\n",
       "3     192\n",
       "Name: key, dtype: int64"
      ]
     },
     "execution_count": 38,
     "metadata": {},
     "output_type": "execute_result"
    }
   ],
   "source": [
    "track_features.key.value_counts()"
   ]
  },
  {
   "cell_type": "code",
   "execution_count": 39,
   "metadata": {},
   "outputs": [
    {
     "data": {
      "text/plain": [
       "<matplotlib.axes._subplots.AxesSubplot at 0x1e2ecd37d08>"
      ]
     },
     "execution_count": 39,
     "metadata": {},
     "output_type": "execute_result"
    },
    {
     "data": {
      "image/png": "[encoded data removed]",
      "text/plain": [
       "<Figure size 432x288 with 1 Axes>"
      ]
     },
     "metadata": {
      "needs_background": "light"
     },
     "output_type": "display_data"
    }
   ],
   "source": [
    "sns.distplot(track_features.loudness)"
   ]
  },
  {
   "cell_type": "code",
   "execution_count": 45,
   "metadata": {},
   "outputs": [
    {
     "data": {
      "text/plain": [
       "<matplotlib.axes._subplots.AxesSubplot at 0x1e2ecee5248>"
      ]
     },
     "execution_count": 45,
     "metadata": {},
     "output_type": "execute_result"
    },
    {
     "data": {
      "image/png": "[encoded data removed]",
      "text/plain": [
       "<Figure size 432x288 with 1 Axes>"
      ]
     },
     "metadata": {
      "needs_background": "light"
     },
     "output_type": "display_data"
    }
   ],
   "source": [
    "sns.distplot(track_features['mode'])"
   ]
  },
  {
   "cell_type": "code",
   "execution_count": 44,
   "metadata": {},
   "outputs": [
    {
     "data": {
      "text/plain": [
       "1    4813\n",
       "0    2088\n",
       "Name: mode, dtype: int64"
      ]
     },
     "execution_count": 44,
     "metadata": {},
     "output_type": "execute_result"
    }
   ],
   "source": [
    "track_features['mode'].value_counts()"
   ]
  },
  {
   "cell_type": "code",
   "execution_count": null,
   "metadata": {},
   "outputs": [],
   "source": []
  },
  {
   "cell_type": "code",
   "execution_count": null,
   "metadata": {},
   "outputs": [],
   "source": [
    "Index(['danceability', 'energy', 'key', 'loudness', 'mode', 'speechiness',\n",
    "       'acousticness', 'instrumentalness', 'liveness', 'valence', 'tempo',\n",
    "       'type', 'id', 'uri', 'track_href', 'analysis_url', 'duration_ms',\n",
    "       'time_signature'],"
   ]
  },
  {
   "cell_type": "code",
   "execution_count": 46,
   "metadata": {},
   "outputs": [
    {
     "data": {
      "text/plain": [
       "<matplotlib.axes._subplots.AxesSubplot at 0x1e2edef55c8>"
      ]
     },
     "execution_count": 46,
     "metadata": {},
     "output_type": "execute_result"
    },
    {
     "data": {
      "image/png": "[encoded data removed]",
      "text/plain": [
       "<Figure size 432x288 with 1 Axes>"
      ]
     },
     "metadata": {
      "needs_background": "light"
     },
     "output_type": "display_data"
    }
   ],
   "source": [
    "sns.distplot(track_features['speechiness'])"
   ]
  },
  {
   "cell_type": "code",
   "execution_count": 47,
   "metadata": {},
   "outputs": [
    {
     "data": {
      "text/plain": [
       "<matplotlib.axes._subplots.AxesSubplot at 0x1e2ee034708>"
      ]
     },
     "execution_count": 47,
     "metadata": {},
     "output_type": "execute_result"
    },
    {
     "data": {
      "image/png": "[encoded data removed]",
      "text/plain": [
       "<Figure size 432x288 with 1 Axes>"
      ]
     },
     "metadata": {
      "needs_background": "light"
     },
     "output_type": "display_data"
    }
   ],
   "source": [
    "sns.distplot(track_features['acousticness'])"
   ]
  },
  {
   "cell_type": "code",
   "execution_count": 48,
   "metadata": {},
   "outputs": [
    {
     "data": {
      "text/plain": [
       "<matplotlib.axes._subplots.AxesSubplot at 0x1e2ee0ae248>"
      ]
     },
     "execution_count": 48,
     "metadata": {},
     "output_type": "execute_result"
    },
    {
     "data": {
      "image/png": "[encoded data removed]",
      "text/plain": [
       "<Figure size 432x288 with 1 Axes>"
      ]
     },
     "metadata": {
      "needs_background": "light"
     },
     "output_type": "display_data"
    }
   ],
   "source": [
    "sns.distplot(track_features['instrumentalness'])"
   ]
  },
  {
   "cell_type": "code",
   "execution_count": 49,
   "metadata": {},
   "outputs": [
    {
     "data": {
      "text/plain": [
       "<matplotlib.axes._subplots.AxesSubplot at 0x1e2ee1a4f88>"
      ]
     },
     "execution_count": 49,
     "metadata": {},
     "output_type": "execute_result"
    },
    {
     "data": {
      "image/png": "[encoded data removed]",
      "text/plain": [
       "<Figure size 432x288 with 1 Axes>"
      ]
     },
     "metadata": {
      "needs_background": "light"
     },
     "output_type": "display_data"
    }
   ],
   "source": [
    "sns.distplot(track_features['liveness'])"
   ]
  },
  {
   "cell_type": "code",
   "execution_count": 50,
   "metadata": {},
   "outputs": [
    {
     "data": {
      "text/plain": [
       "<matplotlib.axes._subplots.AxesSubplot at 0x1e2ee28e9c8>"
      ]
     },
     "execution_count": 50,
     "metadata": {},
     "output_type": "execute_result"
    },
    {
     "data": {
      "image/png": "[encoded data removed]",
      "text/plain": [
       "<Figure size 432x288 with 1 Axes>"
      ]
     },
     "metadata": {
      "needs_background": "light"
     },
     "output_type": "display_data"
    }
   ],
   "source": [
    "sns.distplot(track_features['valence'])"
   ]
  },
  {
   "cell_type": "code",
   "execution_count": 51,
   "metadata": {},
   "outputs": [
    {
     "data": {
      "text/plain": [
       "<matplotlib.axes._subplots.AxesSubplot at 0x1e2ee32f608>"
      ]
     },
     "execution_count": 51,
     "metadata": {},
     "output_type": "execute_result"
    },
    {
     "data": {
      "image/png": "[encoded data removed]",
      "text/plain": [
       "<Figure size 432x288 with 1 Axes>"
      ]
     },
     "metadata": {
      "needs_background": "light"
     },
     "output_type": "display_data"
    }
   ],
   "source": [
    "sns.distplot(track_features['tempo'])"
   ]
  },
  {
   "cell_type": "code",
   "execution_count": 52,
   "metadata": {},
   "outputs": [
    {
     "data": {
      "text/html": [
       "<div>\n",
       "<style scoped>\n",
       "    .dataframe tbody tr th:only-of-type {\n",
       "        vertical-align: middle;\n",
       "    }\n",
       "\n",
       "    .dataframe tbody tr th {\n",
       "        vertical-align: top;\n",
       "    }\n",
       "\n",
       "    .dataframe thead th {\n",
       "        text-align: right;\n",
       "    }\n",
       "</style>\n",
       "<table border=\"1\" class=\"dataframe\">\n",
       "  <thead>\n",
       "    <tr style=\"text-align: right;\">\n",
       "      <th></th>\n",
       "      <th>danceability</th>\n",
       "      <th>energy</th>\n",
       "      <th>key</th>\n",
       "      <th>loudness</th>\n",
       "      <th>mode</th>\n",
       "      <th>speechiness</th>\n",
       "      <th>acousticness</th>\n",
       "      <th>instrumentalness</th>\n",
       "      <th>liveness</th>\n",
       "      <th>valence</th>\n",
       "      <th>tempo</th>\n",
       "      <th>type</th>\n",
       "      <th>id</th>\n",
       "      <th>uri</th>\n",
       "      <th>track_href</th>\n",
       "      <th>analysis_url</th>\n",
       "      <th>duration_ms</th>\n",
       "      <th>time_signature</th>\n",
       "    </tr>\n",
       "  </thead>\n",
       "  <tbody>\n",
       "    <tr>\n",
       "      <td>0</td>\n",
       "      <td>0.640</td>\n",
       "      <td>0.812</td>\n",
       "      <td>8</td>\n",
       "      <td>-5.647</td>\n",
       "      <td>0</td>\n",
       "      <td>0.0834</td>\n",
       "      <td>0.0860</td>\n",
       "      <td>0.000000</td>\n",
       "      <td>0.0509</td>\n",
       "      <td>0.914</td>\n",
       "      <td>86.013</td>\n",
       "      <td>audio_features</td>\n",
       "      <td>7oolFzHipTMg2nL7shhdz2</td>\n",
       "      <td>spotify:track:7oolFzHipTMg2nL7shhdz2</td>\n",
       "      <td>https://api.spotify.com/v1/tracks/7oolFzHipTMg...</td>\n",
       "      <td>https://api.spotify.com/v1/audio-analysis/7ool...</td>\n",
       "      <td>227427</td>\n",
       "      <td>4</td>\n",
       "    </tr>\n",
       "    <tr>\n",
       "      <td>1</td>\n",
       "      <td>0.461</td>\n",
       "      <td>0.834</td>\n",
       "      <td>2</td>\n",
       "      <td>-4.868</td>\n",
       "      <td>1</td>\n",
       "      <td>0.0989</td>\n",
       "      <td>0.0232</td>\n",
       "      <td>0.000011</td>\n",
       "      <td>0.1400</td>\n",
       "      <td>0.471</td>\n",
       "      <td>135.007</td>\n",
       "      <td>audio_features</td>\n",
       "      <td>6PCUP3dWmTjcTtXY02oFdT</td>\n",
       "      <td>spotify:track:6PCUP3dWmTjcTtXY02oFdT</td>\n",
       "      <td>https://api.spotify.com/v1/tracks/6PCUP3dWmTjc...</td>\n",
       "      <td>https://api.spotify.com/v1/audio-analysis/6PCU...</td>\n",
       "      <td>261154</td>\n",
       "      <td>4</td>\n",
       "    </tr>\n",
       "    <tr>\n",
       "      <td>2</td>\n",
       "      <td>0.761</td>\n",
       "      <td>0.386</td>\n",
       "      <td>4</td>\n",
       "      <td>-6.158</td>\n",
       "      <td>1</td>\n",
       "      <td>0.0399</td>\n",
       "      <td>0.3550</td>\n",
       "      <td>0.000000</td>\n",
       "      <td>0.0953</td>\n",
       "      <td>0.526</td>\n",
       "      <td>134.943</td>\n",
       "      <td>audio_features</td>\n",
       "      <td>51ChrwmUPDJvedPQnIU8Ls</td>\n",
       "      <td>spotify:track:51ChrwmUPDJvedPQnIU8Ls</td>\n",
       "      <td>https://api.spotify.com/v1/tracks/51ChrwmUPDJv...</td>\n",
       "      <td>https://api.spotify.com/v1/audio-analysis/51Ch...</td>\n",
       "      <td>238440</td>\n",
       "      <td>3</td>\n",
       "    </tr>\n",
       "    <tr>\n",
       "      <td>3</td>\n",
       "      <td>0.825</td>\n",
       "      <td>0.652</td>\n",
       "      <td>1</td>\n",
       "      <td>-3.183</td>\n",
       "      <td>0</td>\n",
       "      <td>0.0802</td>\n",
       "      <td>0.5810</td>\n",
       "      <td>0.000000</td>\n",
       "      <td>0.0931</td>\n",
       "      <td>0.931</td>\n",
       "      <td>95.977</td>\n",
       "      <td>audio_features</td>\n",
       "      <td>7qiZfU4dY1lWllzX7mPBI3</td>\n",
       "      <td>spotify:track:7qiZfU4dY1lWllzX7mPBI3</td>\n",
       "      <td>https://api.spotify.com/v1/tracks/7qiZfU4dY1lW...</td>\n",
       "      <td>https://api.spotify.com/v1/audio-analysis/7qiZ...</td>\n",
       "      <td>233713</td>\n",
       "      <td>4</td>\n",
       "    </tr>\n",
       "    <tr>\n",
       "      <td>4</td>\n",
       "      <td>0.599</td>\n",
       "      <td>0.448</td>\n",
       "      <td>8</td>\n",
       "      <td>-6.312</td>\n",
       "      <td>1</td>\n",
       "      <td>0.0232</td>\n",
       "      <td>0.1630</td>\n",
       "      <td>0.000000</td>\n",
       "      <td>0.1060</td>\n",
       "      <td>0.168</td>\n",
       "      <td>95.050</td>\n",
       "      <td>audio_features</td>\n",
       "      <td>0tgVpDi06FyKpA1z0VMD4v</td>\n",
       "      <td>spotify:track:0tgVpDi06FyKpA1z0VMD4v</td>\n",
       "      <td>https://api.spotify.com/v1/tracks/0tgVpDi06FyK...</td>\n",
       "      <td>https://api.spotify.com/v1/audio-analysis/0tgV...</td>\n",
       "      <td>263400</td>\n",
       "      <td>3</td>\n",
       "    </tr>\n",
       "  </tbody>\n",
       "</table>\n",
       "</div>"
      ],
      "text/plain": [
       "   danceability  energy  key  loudness  mode  speechiness  acousticness  \\\n",
       "0         0.640   0.812    8    -5.647     0       0.0834        0.0860   \n",
       "1         0.461   0.834    2    -4.868     1       0.0989        0.0232   \n",
       "2         0.761   0.386    4    -6.158     1       0.0399        0.3550   \n",
       "3         0.825   0.652    1    -3.183     0       0.0802        0.5810   \n",
       "4         0.599   0.448    8    -6.312     1       0.0232        0.1630   \n",
       "\n",
       "   instrumentalness  liveness  valence    tempo            type  \\\n",
       "0          0.000000    0.0509    0.914   86.013  audio_features   \n",
       "1          0.000011    0.1400    0.471  135.007  audio_features   \n",
       "2          0.000000    0.0953    0.526  134.943  audio_features   \n",
       "3          0.000000    0.0931    0.931   95.977  audio_features   \n",
       "4          0.000000    0.1060    0.168   95.050  audio_features   \n",
       "\n",
       "                       id                                   uri  \\\n",
       "0  7oolFzHipTMg2nL7shhdz2  spotify:track:7oolFzHipTMg2nL7shhdz2   \n",
       "1  6PCUP3dWmTjcTtXY02oFdT  spotify:track:6PCUP3dWmTjcTtXY02oFdT   \n",
       "2  51ChrwmUPDJvedPQnIU8Ls  spotify:track:51ChrwmUPDJvedPQnIU8Ls   \n",
       "3  7qiZfU4dY1lWllzX7mPBI3  spotify:track:7qiZfU4dY1lWllzX7mPBI3   \n",
       "4  0tgVpDi06FyKpA1z0VMD4v  spotify:track:0tgVpDi06FyKpA1z0VMD4v   \n",
       "\n",
       "                                          track_href  \\\n",
       "0  https://api.spotify.com/v1/tracks/7oolFzHipTMg...   \n",
       "1  https://api.spotify.com/v1/tracks/6PCUP3dWmTjc...   \n",
       "2  https://api.spotify.com/v1/tracks/51ChrwmUPDJv...   \n",
       "3  https://api.spotify.com/v1/tracks/7qiZfU4dY1lW...   \n",
       "4  https://api.spotify.com/v1/tracks/0tgVpDi06FyK...   \n",
       "\n",
       "                                        analysis_url  duration_ms  \\\n",
       "0  https://api.spotify.com/v1/audio-analysis/7ool...       227427   \n",
       "1  https://api.spotify.com/v1/audio-analysis/6PCU...       261154   \n",
       "2  https://api.spotify.com/v1/audio-analysis/51Ch...       238440   \n",
       "3  https://api.spotify.com/v1/audio-analysis/7qiZ...       233713   \n",
       "4  https://api.spotify.com/v1/audio-analysis/0tgV...       263400   \n",
       "\n",
       "   time_signature  \n",
       "0               4  \n",
       "1               4  \n",
       "2               3  \n",
       "3               4  \n",
       "4               3  "
      ]
     },
     "execution_count": 52,
     "metadata": {},
     "output_type": "execute_result"
    }
   ],
   "source": [
    "track_features.head()"
   ]
  },
  {
   "cell_type": "code",
   "execution_count": null,
   "metadata": {},
   "outputs": [],
   "source": []
  }
 ],
 "metadata": {
  "kernelspec": {
   "display_name": "Python 3",
   "language": "python",
   "name": "python3"
  },
  "language_info": {
   "codemirror_mode": {
    "name": "ipython",
    "version": 3
   },
   "file_extension": ".py",
   "mimetype": "text/x-python",
   "name": "python",
   "nbconvert_exporter": "python",
   "pygments_lexer": "ipython3",
   "version": "3.7.4"
  }
 },
 "nbformat": 4,
 "nbformat_minor": 2
}
